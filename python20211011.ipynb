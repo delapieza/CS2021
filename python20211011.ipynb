{
  "nbformat": 4,
  "nbformat_minor": 0,
  "metadata": {
    "colab": {
      "name": "python20211011.ipynb",
      "provenance": [],
      "authorship_tag": "ABX9TyPTTYTDh433/pDUQBxxu9vv",
      "include_colab_link": true
    },
    "kernelspec": {
      "name": "python3",
      "display_name": "Python 3"
    },
    "language_info": {
      "name": "python"
    }
  },
  "cells": [
    {
      "cell_type": "markdown",
      "metadata": {
        "id": "view-in-github",
        "colab_type": "text"
      },
      "source": [
        "<a href=\"https://colab.research.google.com/github/MyDearGreatTeacher/CS2021/blob/main/python20211011.ipynb\" target=\"_parent\"><img src=\"https://colab.research.google.com/assets/colab-badge.svg\" alt=\"Open In Colab\"/></a>"
      ]
    },
    {
      "cell_type": "markdown",
      "metadata": {
        "id": "ap5vxORM2n0S"
      },
      "source": [
        "# Numerics Data Type\n",
        "\n",
        "20211011"
      ]
    },
    {
      "cell_type": "code",
      "metadata": {
        "colab": {
          "base_uri": "https://localhost:8080/"
        },
        "id": "o8wCb6NC1l3W",
        "outputId": "287289a1-75fa-4669-aa4b-1d04a7f78f8f"
      },
      "source": [
        "a = 17 / 3\n",
        "a"
      ],
      "execution_count": 1,
      "outputs": [
        {
          "output_type": "execute_result",
          "data": {
            "text/plain": [
              "5.666666666666667"
            ]
          },
          "metadata": {},
          "execution_count": 1
        }
      ]
    },
    {
      "cell_type": "code",
      "metadata": {
        "colab": {
          "base_uri": "https://localhost:8080/"
        },
        "id": "jTB7zKuA25k5",
        "outputId": "6dffa0f6-5a5f-43c1-f37a-c26fd7d229dd"
      },
      "source": [
        "b = 17 // 3\n",
        "b"
      ],
      "execution_count": 3,
      "outputs": [
        {
          "output_type": "execute_result",
          "data": {
            "text/plain": [
              "5"
            ]
          },
          "metadata": {},
          "execution_count": 3
        }
      ]
    },
    {
      "cell_type": "code",
      "metadata": {
        "colab": {
          "base_uri": "https://localhost:8080/"
        },
        "id": "wP3VEYdn3NyK",
        "outputId": "ea52deac-fc59-4e19-d189-fb63d62dead7"
      },
      "source": [
        "c = 17 % 3\n",
        "c"
      ],
      "execution_count": 5,
      "outputs": [
        {
          "output_type": "execute_result",
          "data": {
            "text/plain": [
              "2"
            ]
          },
          "metadata": {},
          "execution_count": 5
        }
      ]
    },
    {
      "cell_type": "markdown",
      "metadata": {
        "id": "6Dpv-nAU3RDV"
      },
      "source": [
        "17 = 5*3 + 2"
      ]
    },
    {
      "cell_type": "code",
      "metadata": {
        "id": "6-xqXL3L3Ns5"
      },
      "source": [
        ""
      ],
      "execution_count": null,
      "outputs": []
    },
    {
      "cell_type": "code",
      "metadata": {
        "id": "rlaCeIR125dY"
      },
      "source": [
        ""
      ],
      "execution_count": null,
      "outputs": []
    }
  ]
}