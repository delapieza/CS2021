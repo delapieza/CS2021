{
  "nbformat": 4,
  "nbformat_minor": 0,
  "metadata": {
    "colab": {
      "name": "python20211011.ipynb",
      "provenance": [],
      "include_colab_link": true
    },
    "kernelspec": {
      "name": "python3",
      "display_name": "Python 3"
    },
    "language_info": {
      "name": "python"
    }
  },
  "cells": [
    {
      "cell_type": "markdown",
      "metadata": {
        "id": "view-in-github",
        "colab_type": "text"
      },
      "source": [
        "<a href=\"https://colab.research.google.com/github/delapieza/CS2021/blob/main/python20211011.ipynb\" target=\"_parent\"><img src=\"https://colab.research.google.com/assets/colab-badge.svg\" alt=\"Open In Colab\"/></a>"
      ]
    },
    {
      "cell_type": "markdown",
      "metadata": {
        "id": "ap5vxORM2n0S"
      },
      "source": [
        "# python Data Type\n",
        "\n",
        "Date: 20211011\n",
        "\n",
        "Name:Bryan A. Dela pieza"
      ]
    },
    {
      "cell_type": "markdown",
      "metadata": {
        "id": "n-ioHh-8K7j4"
      },
      "source": [
        "# 1_Numerics Data Type"
      ]
    },
    {
      "cell_type": "markdown",
      "metadata": {
        "id": "mOClob_U5ywc"
      },
      "source": [
        "# Arithmetic operators"
      ]
    },
    {
      "cell_type": "code",
      "metadata": {
        "colab": {
          "base_uri": "https://localhost:8080/"
        },
        "id": "o8wCb6NC1l3W",
        "outputId": "c0f2a620-3908-43d1-8804-06813b9f906a"
      },
      "source": [
        "a = 17 / 3\n",
        "a"
      ],
      "execution_count": 8,
      "outputs": [
        {
          "output_type": "execute_result",
          "data": {
            "text/plain": [
              "5.666666666666667"
            ]
          },
          "metadata": {},
          "execution_count": 8
        }
      ]
    },
    {
      "cell_type": "code",
      "metadata": {
        "colab": {
          "base_uri": "https://localhost:8080/"
        },
        "id": "jTB7zKuA25k5",
        "outputId": "53f14aba-fae7-419d-ada4-0914360361d4"
      },
      "source": [
        "b = 17 // 3\n",
        "b"
      ],
      "execution_count": 9,
      "outputs": [
        {
          "output_type": "execute_result",
          "data": {
            "text/plain": [
              "5"
            ]
          },
          "metadata": {},
          "execution_count": 9
        }
      ]
    },
    {
      "cell_type": "code",
      "metadata": {
        "colab": {
          "base_uri": "https://localhost:8080/"
        },
        "id": "wP3VEYdn3NyK",
        "outputId": "ed9cabbf-3f60-48cf-8e87-78fba14d3b56"
      },
      "source": [
        "c = 17 % 3\n",
        "c"
      ],
      "execution_count": 10,
      "outputs": [
        {
          "output_type": "execute_result",
          "data": {
            "text/plain": [
              "2"
            ]
          },
          "metadata": {},
          "execution_count": 10
        }
      ]
    },
    {
      "cell_type": "markdown",
      "metadata": {
        "id": "6Dpv-nAU3RDV"
      },
      "source": [
        "17 = 5*3 + 2(remainder)"
      ]
    },
    {
      "cell_type": "markdown",
      "metadata": {
        "id": "NpJNHJ37532n"
      },
      "source": [
        "# Logical operators"
      ]
    },
    {
      "cell_type": "code",
      "metadata": {
        "colab": {
          "base_uri": "https://localhost:8080/"
        },
        "id": "6-xqXL3L3Ns5",
        "outputId": "abbc02ae-6e8e-44da-c21e-b3fd0f86175c"
      },
      "source": [
        "x = 5\n",
        "print(x > 7 and x < 13)"
      ],
      "execution_count": 29,
      "outputs": [
        {
          "output_type": "stream",
          "name": "stdout",
          "text": [
            "False\n"
          ]
        }
      ]
    },
    {
      "cell_type": "markdown",
      "metadata": {
        "id": "UlJexx2y6ChW"
      },
      "source": [
        "x = 5   ==>  [x > 7] true\n",
        "\n",
        "[x < 13] TRUE\n",
        "\n",
        "[x > 6] and [x < 13] ==> True and true ==> ture"
      ]
    },
    {
      "cell_type": "code",
      "metadata": {
        "colab": {
          "base_uri": "https://localhost:8080/"
        },
        "id": "hKjIyLaf6G-S",
        "outputId": "d292ff89-feb8-41b3-9ed2-4b862f8fb69f"
      },
      "source": [
        "x = 5\n",
        "print(x > 7 and x > 13)"
      ],
      "execution_count": 12,
      "outputs": [
        {
          "output_type": "stream",
          "name": "stdout",
          "text": [
            "False\n"
          ]
        }
      ]
    },
    {
      "cell_type": "markdown",
      "metadata": {
        "id": "oNdqGl_f7B0G"
      },
      "source": [
        "x = 5  ==> [x > 3] Ture |  [x>10] False \n",
        "\n",
        "[True] and [False] ==> False \n",
        "\n",
        "\n",
        "[True] and [True] ==> True\n",
        "\n",
        "[True] and [False] ==> False \n",
        "\n",
        "[False] and [True] ==> False\n",
        "\n",
        "[False] and [False] ==> False"
      ]
    },
    {
      "cell_type": "code",
      "metadata": {
        "colab": {
          "base_uri": "https://localhost:8080/"
        },
        "id": "rlaCeIR125dY",
        "outputId": "dd29303d-53e7-4329-8c91-025c9ac6efe7"
      },
      "source": [
        "x = 5\n",
        "print(x > 7 or x > 13)"
      ],
      "execution_count": 13,
      "outputs": [
        {
          "output_type": "stream",
          "name": "stdout",
          "text": [
            "False\n"
          ]
        }
      ]
    },
    {
      "cell_type": "markdown",
      "metadata": {
        "id": "qklziw159iwl"
      },
      "source": [
        "[True] or [True] ==> True\n",
        "\n",
        "[True] or [False] ==> True\n",
        "\n",
        "[False] or [True] ==> True\n",
        "\n",
        "[False] or [False] ==> False"
      ]
    },
    {
      "cell_type": "markdown",
      "metadata": {
        "id": "KeNxxIWC96BE"
      },
      "source": [
        "# Built-in functions\n",
        "\n",
        "Python has many Built-in functions"
      ]
    },
    {
      "cell_type": "code",
      "metadata": {
        "colab": {
          "base_uri": "https://localhost:8080/",
          "height": 35
        },
        "id": "fQrXfNhs-bha",
        "outputId": "d429dfb4-17e6-46e3-d66d-3055715084be"
      },
      "source": [
        "bin(7)"
      ],
      "execution_count": 28,
      "outputs": [
        {
          "output_type": "execute_result",
          "data": {
            "application/vnd.google.colaboratory.intrinsic+json": {
              "type": "string"
            },
            "text/plain": [
              "'0b111'"
            ]
          },
          "metadata": {},
          "execution_count": 28
        }
      ]
    },
    {
      "cell_type": "markdown",
      "metadata": {
        "id": "JNRGpdrm-gPT"
      },
      "source": [
        "decimal 3  ==> binary \n",
        "\n",
        "0b11 = 1*2 + 1 = 3\n",
        "\n",
        "ob111 =? \n",
        "\n",
        "0b111 = 1* 2^2 + 1*2 +1 =7"
      ]
    },
    {
      "cell_type": "code",
      "metadata": {
        "colab": {
          "base_uri": "https://localhost:8080/"
        },
        "id": "BrVDpRkL-uMj",
        "outputId": "75e0212e-962b-431e-f1f0-7294f38d1f12"
      },
      "source": [
        "int(0b111)"
      ],
      "execution_count": 15,
      "outputs": [
        {
          "output_type": "execute_result",
          "data": {
            "text/plain": [
              "7"
            ]
          },
          "metadata": {},
          "execution_count": 15
        }
      ]
    },
    {
      "cell_type": "markdown",
      "metadata": {
        "id": "evomhpGJDY-2"
      },
      "source": [
        "# 2_string data type"
      ]
    },
    {
      "cell_type": "code",
      "metadata": {
        "colab": {
          "base_uri": "https://localhost:8080/",
          "height": 52
        },
        "id": "4HQV_41cDccI",
        "outputId": "b5cadc3b-439e-4f36-ee91-5d1db3359ff9"
      },
      "source": [
        "str3 = 'allows embedded \"double\" quotes'\n",
        "str3"
      ],
      "execution_count": 16,
      "outputs": [
        {
          "output_type": "execute_result",
          "data": {
            "application/vnd.google.colaboratory.intrinsic+json": {
              "type": "string"
            },
            "text/plain": [
              "'allows embedded \"double\" quotes'"
            ]
          },
          "metadata": {},
          "execution_count": 16
        }
      ]
    },
    {
      "cell_type": "markdown",
      "metadata": {
        "id": "8T9SYUxOE_Wm"
      },
      "source": [
        "## operation on strings\n",
        "\n",
        "index "
      ]
    },
    {
      "cell_type": "code",
      "metadata": {
        "colab": {
          "base_uri": "https://localhost:8080/"
        },
        "id": "qtuw189UDlt7",
        "outputId": "191c28e0-792e-493f-f724-f55c7b758adb"
      },
      "source": [
        "var1 = 'Hello Python!'\n",
        "\n",
        "print(\"var1[1]: \", var1[1])"
      ],
      "execution_count": 17,
      "outputs": [
        {
          "output_type": "stream",
          "name": "stdout",
          "text": [
            "var1[1]:  e\n"
          ]
        }
      ]
    },
    {
      "cell_type": "markdown",
      "metadata": {
        "id": "o4DS4XgF_OX1"
      },
      "source": [
        "var1 = 'Hello Python!'\n",
        "\n",
        "var1[0] ==> H\n",
        "\n",
        "var1[1] ==> e\n",
        "\n",
        "and so on"
      ]
    },
    {
      "cell_type": "markdown",
      "metadata": {
        "id": "ZtwTzQlrFDb8"
      },
      "source": [
        "## slice operation"
      ]
    },
    {
      "cell_type": "code",
      "metadata": {
        "colab": {
          "base_uri": "https://localhost:8080/"
        },
        "id": "bV0jsobyEHPq",
        "outputId": "a5b4fbec-2fad-42f0-b39a-4866ac0d1827"
      },
      "source": [
        "b = \"Hello, World!\"\n",
        "#print(b[2:5])\n",
        "#print(b[:6])\n",
        "#print(b[2:])\n",
        "print(b[-5:-2])"
      ],
      "execution_count": 18,
      "outputs": [
        {
          "output_type": "stream",
          "name": "stdout",
          "text": [
            "orl\n"
          ]
        }
      ]
    },
    {
      "cell_type": "markdown",
      "metadata": {
        "id": "Qz4VT0GOFxLa"
      },
      "source": [
        "## Python string method\n",
        "\n",
        "https://www.w3schools.com/python/python_strings_methods.asp"
      ]
    },
    {
      "cell_type": "markdown",
      "metadata": {
        "id": "mVI-UTMFGEkB"
      },
      "source": [
        "## capitalize()\tConverts the first character to upper case"
      ]
    },
    {
      "cell_type": "code",
      "metadata": {
        "colab": {
          "base_uri": "https://localhost:8080/"
        },
        "id": "_WCxSaocGHQv",
        "outputId": "2c4fe0e3-6499-47d1-b1bc-725057251315"
      },
      "source": [
        "txt = \"hello, and welcome to my world.\"\n",
        "\n",
        "x = txt.capitalize()\n",
        "\n",
        "print (x)"
      ],
      "execution_count": 19,
      "outputs": [
        {
          "output_type": "stream",
          "name": "stdout",
          "text": [
            "Hello, and welcome to my world.\n"
          ]
        }
      ]
    },
    {
      "cell_type": "markdown",
      "metadata": {
        "id": "Md8mDAxjHCsE"
      },
      "source": [
        "## Python String join() Method\n",
        "\n"
      ]
    },
    {
      "cell_type": "code",
      "metadata": {
        "colab": {
          "base_uri": "https://localhost:8080/"
        },
        "id": "UWA-gfVNHM0K",
        "outputId": "ed898d68-64af-4462-8be2-612544787a29"
      },
      "source": [
        "myTuple = (\"John\", \"Peter\", \"Vicky\")\n",
        "\n",
        "x = \"#\".join(myTuple)\n",
        "\n",
        "print(x)"
      ],
      "execution_count": 20,
      "outputs": [
        {
          "output_type": "stream",
          "name": "stdout",
          "text": [
            "John#Peter#Vicky\n"
          ]
        }
      ]
    },
    {
      "cell_type": "code",
      "metadata": {
        "colab": {
          "base_uri": "https://localhost:8080/"
        },
        "id": "PENmOu5cHjZy",
        "outputId": "f880f813-b1bb-4936-e32e-85b799b770ed"
      },
      "source": [
        "txt = \"grapes\"\n",
        "\n",
        "x = txt.ljust(20)\n",
        "\n",
        "print(x, \"is one of my favorite fruit.\")"
      ],
      "execution_count": 21,
      "outputs": [
        {
          "output_type": "stream",
          "name": "stdout",
          "text": [
            "grapes               is one of my favorite fruit.\n"
          ]
        }
      ]
    },
    {
      "cell_type": "code",
      "metadata": {
        "colab": {
          "base_uri": "https://localhost:8080/"
        },
        "id": "8sBOwnsrIAwD",
        "outputId": "6b95cd0c-88eb-4def-d97c-7f2941179eb7"
      },
      "source": [
        "txt = \"     grapes     \"\n",
        "\n",
        "x = txt.lstrip()\n",
        "\n",
        "print(\"is one of my favorite fruit\", x, \"is my favorite\")"
      ],
      "execution_count": 22,
      "outputs": [
        {
          "output_type": "stream",
          "name": "stdout",
          "text": [
            "is one of my favorite fruit grapes      is my favorite\n"
          ]
        }
      ]
    },
    {
      "cell_type": "markdown",
      "metadata": {
        "id": "UeDlPHiHKy80"
      },
      "source": [
        "# 3_list data type"
      ]
    },
    {
      "cell_type": "code",
      "metadata": {
        "colab": {
          "base_uri": "https://localhost:8080/"
        },
        "id": "nt2FXhktLBDR",
        "outputId": "a8ef4a09-3f3b-4cca-873b-64c959f165d6"
      },
      "source": [
        "list1 = [19, 31, 12, 10, 30, 96]\n",
        "\n",
        "list1[1]"
      ],
      "execution_count": 23,
      "outputs": [
        {
          "output_type": "execute_result",
          "data": {
            "text/plain": [
              "31"
            ]
          },
          "metadata": {},
          "execution_count": 23
        }
      ]
    },
    {
      "cell_type": "markdown",
      "metadata": {
        "id": "iL86F_fYLIzJ"
      },
      "source": [
        "list1 = [19, 31, 12, 10, 30, 96]\n",
        "\n",
        "index of list1\n",
        "\n",
        "list1[0] => 19\n",
        "\n",
        "list1[1] => 31\n",
        "\n",
        "and so on"
      ]
    },
    {
      "cell_type": "markdown",
      "metadata": {
        "id": "f3cFTOOtLzq4"
      },
      "source": [
        "## slice operation"
      ]
    },
    {
      "cell_type": "code",
      "metadata": {
        "colab": {
          "base_uri": "https://localhost:8080/"
        },
        "id": "UbrGXXctLV-O",
        "outputId": "bacdc22b-afec-4c4c-ec3f-d6b526701142"
      },
      "source": [
        "list1[1:3]"
      ],
      "execution_count": 27,
      "outputs": [
        {
          "output_type": "execute_result",
          "data": {
            "text/plain": [
              "[31, 12]"
            ]
          },
          "metadata": {},
          "execution_count": 27
        }
      ]
    },
    {
      "cell_type": "markdown",
      "metadata": {
        "id": "UpO0-IjvLkoH"
      },
      "source": [
        "## list built-in functions"
      ]
    },
    {
      "cell_type": "code",
      "metadata": {
        "colab": {
          "base_uri": "https://localhost:8080/"
        },
        "id": "vOLOY_1jLjZi",
        "outputId": "3f22a6ae-860e-4240-e06d-ac78d931ac07"
      },
      "source": [
        "len(list1)"
      ],
      "execution_count": 24,
      "outputs": [
        {
          "output_type": "execute_result",
          "data": {
            "text/plain": [
              "6"
            ]
          },
          "metadata": {},
          "execution_count": 24
        }
      ]
    },
    {
      "cell_type": "code",
      "metadata": {
        "colab": {
          "base_uri": "https://localhost:8080/"
        },
        "id": "7iGhV6Y5LsET",
        "outputId": "38361ba2-1e3f-4652-c43c-38848a49d40f"
      },
      "source": [
        "max(list1)"
      ],
      "execution_count": 25,
      "outputs": [
        {
          "output_type": "execute_result",
          "data": {
            "text/plain": [
              "96"
            ]
          },
          "metadata": {},
          "execution_count": 25
        }
      ]
    },
    {
      "cell_type": "code",
      "metadata": {
        "colab": {
          "base_uri": "https://localhost:8080/"
        },
        "id": "KApdVP0MLtRm",
        "outputId": "47fca3be-7cf7-4038-94c9-4d8721f7bd6e"
      },
      "source": [
        "min(list1)"
      ],
      "execution_count": 26,
      "outputs": [
        {
          "output_type": "execute_result",
          "data": {
            "text/plain": [
              "10"
            ]
          },
          "metadata": {},
          "execution_count": 26
        }
      ]
    },
    {
      "cell_type": "markdown",
      "metadata": {
        "id": "MgNkLOMVNEWg"
      },
      "source": [
        "## 4_dict data type\n",
        "\n",
        "\n",
        "dict = {'Name': 'bryan', 'Age': 20, 'student': 'KSU'}\n",
        "\n",
        "==> 3 key-value pairs\n",
        "\n",
        "'Name': 'bryan'  ==> Name: key , bryan : value\n",
        "\n",
        "'Age': 17\n",
        "\n",
        "'student': 'KSU'\n",
        "\n",
        "\n",
        "seperated by ,\n",
        "\n",
        "\n",
        "many key-value pairs"
      ]
    },
    {
      "cell_type": "code",
      "metadata": {
        "colab": {
          "base_uri": "https://localhost:8080/"
        },
        "id": "wqvGpxJ9Nlol",
        "outputId": "5bfd890a-50ea-4041-e70f-f9594516ee0d"
      },
      "source": [
        "dict = {'Name': 'bryan', 'Age': 20, 'student': 'KSU'}\n",
        "print(\"dict['Age']: \", dict['Age'])"
      ],
      "execution_count": 1,
      "outputs": [
        {
          "output_type": "stream",
          "name": "stdout",
          "text": [
            "dict['Age']:  20\n"
          ]
        }
      ]
    }
  ]
}